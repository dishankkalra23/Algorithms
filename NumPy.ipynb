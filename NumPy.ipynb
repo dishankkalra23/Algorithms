{
  "nbformat": 4,
  "nbformat_minor": 0,
  "metadata": {
    "colab": {
      "name": "NumPy.ipynb",
      "provenance": [],
      "collapsed_sections": [],
      "toc_visible": true,
      "authorship_tag": "ABX9TyMYlA/9MWJi8kcqrh4oDkr1",
      "include_colab_link": true
    },
    "kernelspec": {
      "name": "python3",
      "display_name": "Python 3"
    },
    "accelerator": "GPU"
  },
  "cells": [
    {
      "cell_type": "markdown",
      "metadata": {
        "id": "view-in-github",
        "colab_type": "text"
      },
      "source": [
        "<a href=\"https://colab.research.google.com/github/dishankkalra23/Algorithms/blob/master/NumPy.ipynb\" target=\"_parent\"><img src=\"https://colab.research.google.com/assets/colab-badge.svg\" alt=\"Open In Colab\"/></a>"
      ]
    },
    {
      "cell_type": "markdown",
      "metadata": {
        "id": "RZ8lYSFwxxbD"
      },
      "source": [
        "1. Importing library and creating array"
      ]
    },
    {
      "cell_type": "code",
      "metadata": {
        "id": "1IMFAvi8w1PQ",
        "outputId": "d619e196-92ed-487f-bb40-d42493a0d2bc",
        "colab": {
          "base_uri": "https://localhost:8080/",
          "height": 34
        }
      },
      "source": [
        "import numpy as np\n",
        "\n",
        "x = np.array([1,2,3,4,5])"
      ],
      "execution_count": null,
      "outputs": [
        {
          "output_type": "stream",
          "text": [
            "[1 2 3 4 5]\n"
          ],
          "name": "stdout"
        }
      ]
    },
    {
      "cell_type": "markdown",
      "metadata": {
        "id": "nFI9eDj8xsjz"
      },
      "source": [
        "2. type vs dtype \\n\n",
        "type: type of data structure like list,array,dictionary etc\n",
        "dtype: data type of data structure "
      ]
    },
    {
      "cell_type": "code",
      "metadata": {
        "id": "YkYD-XO3w5Rw",
        "outputId": "e4cca64b-140e-4e45-8da0-fcc08300919e",
        "colab": {
          "base_uri": "https://localhost:8080/",
          "height": 51
        }
      },
      "source": [
        "print(type(x))\n",
        "x.dtype"
      ],
      "execution_count": null,
      "outputs": [
        {
          "output_type": "stream",
          "text": [
            "<class 'numpy.ndarray'>\n"
          ],
          "name": "stdout"
        },
        {
          "output_type": "execute_result",
          "data": {
            "text/plain": [
              "dtype('int64')"
            ]
          },
          "metadata": {
            "tags": []
          },
          "execution_count": 10
        }
      ]
    },
    {
      "cell_type": "markdown",
      "metadata": {
        "id": "tKtjele05HFb"
      },
      "source": [
        "3. Creating array with specific data type"
      ]
    },
    {
      "cell_type": "code",
      "metadata": {
        "id": "VCehhf475M8V",
        "outputId": "46ebac07-9ae3-4703-995f-295c4092befe",
        "colab": {
          "base_uri": "https://localhost:8080/",
          "height": 34
        }
      },
      "source": [
        "z = np.array([1,2,3],dtype ='f')\n",
        "print(z)"
      ],
      "execution_count": null,
      "outputs": [
        {
          "output_type": "stream",
          "text": [
            "[1. 2. 3.]\n"
          ],
          "name": "stdout"
        }
      ]
    },
    {
      "cell_type": "markdown",
      "metadata": {
        "id": "haiBEOIb2Rwt"
      },
      "source": [
        "4. Rank of array: for example(x is 1/ 1d array)"
      ]
    },
    {
      "cell_type": "code",
      "metadata": {
        "id": "Rw7-62Ik2b59"
      },
      "source": [
        "# 1D array:\n",
        "[1,2,3,4,5]\n",
        "\n",
        "# 2D array:\n",
        "[[1,2,3],[4,5,6]]\n",
        "\n",
        "# 3d array:\n",
        "[[[1,2,3],[4,5,6]]]"
      ],
      "execution_count": null,
      "outputs": []
    },
    {
      "cell_type": "markdown",
      "metadata": {
        "id": "o_uxbYWJy0-B"
      },
      "source": [
        "5. shape, size of array"
      ]
    },
    {
      "cell_type": "code",
      "metadata": {
        "id": "pmT0K1bCyu43",
        "outputId": "e71adaf3-3122-482d-dd8f-724f0f88c4b1",
        "colab": {
          "base_uri": "https://localhost:8080/",
          "height": 102
        }
      },
      "source": [
        "print(x.shape)\n",
        "y = np.array([[1,2,5],[3,4,5]])\n",
        "print(\"Shape/Dimension:\",y.shape)\n",
        "print(\"Size: \",y.size)\n",
        "print(\"Type of data structure:\",type(y))\n",
        "print(\"Data type of array:\",y.dtype)"
      ],
      "execution_count": null,
      "outputs": [
        {
          "output_type": "stream",
          "text": [
            "(5,)\n",
            "Shape/Dimension: (2, 3)\n",
            "Size:  6\n",
            "Type of data structure: <class 'numpy.ndarray'>\n",
            "Data type of array: int64\n"
          ],
          "name": "stdout"
        }
      ]
    },
    {
      "cell_type": "markdown",
      "metadata": {
        "id": "FwOpqW_L1xXZ"
      },
      "source": [
        "6. Saving numpy array in a file and loading it when it is needed"
      ]
    },
    {
      "cell_type": "code",
      "metadata": {
        "id": "0MIpz_QO1iZB",
        "outputId": "1f6f3baf-0126-4ed4-ea9b-20c2f64b6b50",
        "colab": {
          "base_uri": "https://localhost:8080/",
          "height": 34
        }
      },
      "source": [
        "arr_name = [1,2,3,4,5]\n",
        "np.save('file_name',arr_name)\n",
        "new_arr = np.load('file_name.npy')\n",
        "print(\"Saved array:\",new_arr)"
      ],
      "execution_count": null,
      "outputs": [
        {
          "output_type": "stream",
          "text": [
            "Saved array: [1 2 3 4 5]\n"
          ],
          "name": "stdout"
        }
      ]
    },
    {
      "cell_type": "markdown",
      "metadata": {
        "id": "N0YviaI032eJ"
      },
      "source": [
        "7. Upcasting in numpy: If the array contains elements of different data types and then changing data type to largest data type"
      ]
    },
    {
      "cell_type": "code",
      "metadata": {
        "id": "HfGf8tj-4JTb",
        "outputId": "7948538c-b78c-4f5b-e01c-7f8580cfff0a",
        "colab": {
          "base_uri": "https://localhost:8080/",
          "height": 34
        }
      },
      "source": [
        "a = np.array([1.2,3.4,4,5,6])\n",
        "print(a)"
      ],
      "execution_count": null,
      "outputs": [
        {
          "output_type": "stream",
          "text": [
            "[1.2 3.4 4.  5.  6. ]\n"
          ],
          "name": "stdout"
        }
      ]
    },
    {
      "cell_type": "code",
      "metadata": {
        "id": "POjAuAVj4TNf",
        "outputId": "1ee73c25-1028-42cc-89ac-ce6c6d090822",
        "colab": {
          "base_uri": "https://localhost:8080/",
          "height": 119
        }
      },
      "source": [
        "import string\n",
        "list_alphabet = list(string.ascii_lowercase)\n",
        "alpha = np.array(list_alphabet)\n",
        "print(alpha)\n",
        "print(alpha.dtype)\n",
        "print(type(alpha))\n",
        "print(alpha.shape)\n",
        "print(alpha.size)"
      ],
      "execution_count": null,
      "outputs": [
        {
          "output_type": "stream",
          "text": [
            "['a' 'b' 'c' 'd' 'e' 'f' 'g' 'h' 'i' 'j' 'k' 'l' 'm' 'n' 'o' 'p' 'q' 'r'\n",
            " 's' 't' 'u' 'v' 'w' 'x' 'y' 'z']\n",
            "<U1\n",
            "<class 'numpy.ndarray'>\n",
            "(26,)\n",
            "26\n"
          ],
          "name": "stdout"
        }
      ]
    },
    {
      "cell_type": "code",
      "metadata": {
        "id": "Hz_IdXWqv4MG",
        "outputId": "36fdaca0-1664-4d12-cf6f-66e603772b50",
        "colab": {
          "base_uri": "https://localhost:8080/",
          "height": 102
        }
      },
      "source": [
        "x = np.arange(1,26).reshape(5,5)\n",
        "x\n",
        "x[x%2!=0] = -100\n",
        "x.reshape(5,5)"
      ],
      "execution_count": null,
      "outputs": [
        {
          "output_type": "execute_result",
          "data": {
            "text/plain": [
              "array([[-100,    2, -100,    4, -100],\n",
              "       [   6, -100,    8, -100,   10],\n",
              "       [-100,   12, -100,   14, -100],\n",
              "       [  16, -100,   18, -100,   20],\n",
              "       [-100,   22, -100,   24, -100]])"
            ]
          },
          "metadata": {
            "tags": []
          },
          "execution_count": 86
        }
      ]
    },
    {
      "cell_type": "code",
      "metadata": {
        "id": "SKghhc_q50Ih",
        "outputId": "303a9f30-57bf-4973-c49c-94cc9a7c85d1",
        "colab": {
          "base_uri": "https://localhost:8080/",
          "height": 102
        }
      },
      "source": [
        "np.random.randint(1,10,size = (5,5))"
      ],
      "execution_count": null,
      "outputs": [
        {
          "output_type": "execute_result",
          "data": {
            "text/plain": [
              "array([[8, 1, 6, 6, 7],\n",
              "       [3, 7, 2, 8, 3],\n",
              "       [4, 2, 1, 3, 9],\n",
              "       [9, 6, 9, 5, 9],\n",
              "       [2, 8, 5, 6, 5]])"
            ]
          },
          "metadata": {
            "tags": []
          },
          "execution_count": 103
        }
      ]
    },
    {
      "cell_type": "code",
      "metadata": {
        "id": "eUOoCZuv7K1V",
        "outputId": "c3cff72e-23a7-4745-ae66-1281f8ade41a",
        "colab": {
          "base_uri": "https://localhost:8080/",
          "height": 85
        }
      },
      "source": [
        "x = np.ones((4,4))*np.array([1,2,3,4]).reshape(1,4)\n",
        "x"
      ],
      "execution_count": null,
      "outputs": [
        {
          "output_type": "execute_result",
          "data": {
            "text/plain": [
              "array([[1., 2., 3., 4.],\n",
              "       [1., 2., 3., 4.],\n",
              "       [1., 2., 3., 4.],\n",
              "       [1., 2., 3., 4.]])"
            ]
          },
          "metadata": {
            "tags": []
          },
          "execution_count": 138
        }
      ]
    },
    {
      "cell_type": "code",
      "metadata": {
        "id": "FlxUyPSh5H-U",
        "outputId": "fb4b6a6c-d8d6-4114-9525-4400cb014751",
        "colab": {
          "base_uri": "https://localhost:8080/",
          "height": 34
        }
      },
      "source": [
        "import pandas as pd\n",
        "import numpy as np\n",
        "distance_from_sun = [149.6, 1433.5, 227.9, 108.2, 778.6]\n",
        "planets = ['Earth','Saturn', 'Mars','Venus', 'Jupiter']\n",
        "arr = pd.Series(data = distance_from_sun,index = planets)\n",
        "time = arr/18\n",
        "time[time]\n",
        "np.sqrt(distance_from_sun)"
      ],
      "execution_count": null,
      "outputs": [
        {
          "output_type": "execute_result",
          "data": {
            "text/plain": [
              "array([12.23110788, 37.86159004, 15.09635718, 10.4019229 , 27.90340481])"
            ]
          },
          "metadata": {
            "tags": []
          },
          "execution_count": 49
        }
      ]
    },
    {
      "cell_type": "code",
      "metadata": {
        "id": "1BfPijWKroIx",
        "outputId": "ee73a46c-df2a-4d74-cdc7-451791bf6da5",
        "colab": {
          "base_uri": "https://localhost:8080/",
          "height": 85
        }
      },
      "source": [
        "import pandas as pd\n",
        "import numpy as np\n",
        "\n",
        "x = pd.Series(data=[1,2,3],index=['a','why',2])\n",
        "x + 2"
      ],
      "execution_count": null,
      "outputs": [
        {
          "output_type": "execute_result",
          "data": {
            "text/plain": [
              "a      3\n",
              "why    4\n",
              "2      5\n",
              "dtype: int64"
            ]
          },
          "metadata": {
            "tags": []
          },
          "execution_count": 1
        }
      ]
    },
    {
      "cell_type": "code",
      "metadata": {
        "id": "8YmBzs2IzMJd",
        "outputId": "cffcd18a-18e3-46a4-b3bc-2188788497d8",
        "colab": {
          "base_uri": "https://localhost:8080/",
          "height": 235
        }
      },
      "source": [
        "# Pandas Series w/o label\n",
        "items = {'anay':pd.Series(data=[1,2,3,4,5,[6,7,[8,9,[10,11]]]]),'chaman':pd.Series(data=[1,2,3])}\n",
        "arr = pd.DataFrame(items)\n",
        "arr"
      ],
      "execution_count": null,
      "outputs": [
        {
          "output_type": "execute_result",
          "data": {
            "text/html": [
              "<div>\n",
              "<style scoped>\n",
              "    .dataframe tbody tr th:only-of-type {\n",
              "        vertical-align: middle;\n",
              "    }\n",
              "\n",
              "    .dataframe tbody tr th {\n",
              "        vertical-align: top;\n",
              "    }\n",
              "\n",
              "    .dataframe thead th {\n",
              "        text-align: right;\n",
              "    }\n",
              "</style>\n",
              "<table border=\"1\" class=\"dataframe\">\n",
              "  <thead>\n",
              "    <tr style=\"text-align: right;\">\n",
              "      <th></th>\n",
              "      <th>anay</th>\n",
              "      <th>chaman</th>\n",
              "    </tr>\n",
              "  </thead>\n",
              "  <tbody>\n",
              "    <tr>\n",
              "      <th>0</th>\n",
              "      <td>1</td>\n",
              "      <td>1.0</td>\n",
              "    </tr>\n",
              "    <tr>\n",
              "      <th>1</th>\n",
              "      <td>2</td>\n",
              "      <td>2.0</td>\n",
              "    </tr>\n",
              "    <tr>\n",
              "      <th>2</th>\n",
              "      <td>3</td>\n",
              "      <td>3.0</td>\n",
              "    </tr>\n",
              "    <tr>\n",
              "      <th>3</th>\n",
              "      <td>4</td>\n",
              "      <td>NaN</td>\n",
              "    </tr>\n",
              "    <tr>\n",
              "      <th>4</th>\n",
              "      <td>5</td>\n",
              "      <td>NaN</td>\n",
              "    </tr>\n",
              "    <tr>\n",
              "      <th>5</th>\n",
              "      <td>[6, 7, [8, 9, [10, 11]]]</td>\n",
              "      <td>NaN</td>\n",
              "    </tr>\n",
              "  </tbody>\n",
              "</table>\n",
              "</div>"
            ],
            "text/plain": [
              "                       anay  chaman\n",
              "0                         1     1.0\n",
              "1                         2     2.0\n",
              "2                         3     3.0\n",
              "3                         4     NaN\n",
              "4                         5     NaN\n",
              "5  [6, 7, [8, 9, [10, 11]]]     NaN"
            ]
          },
          "metadata": {
            "tags": []
          },
          "execution_count": 19
        }
      ]
    },
    {
      "cell_type": "code",
      "metadata": {
        "id": "1FnQnCj-411P",
        "outputId": "8dc654a8-8598-4e35-f285-be5e08f1aa76",
        "colab": {
          "base_uri": "https://localhost:8080/",
          "height": 173
        }
      },
      "source": [
        "# Array\n",
        "item2 = {'abc':[1,2,3,4],'def':[5,6,7,8]}\n",
        "arr2 = pd.DataFrame(item2)\n",
        "arr2"
      ],
      "execution_count": null,
      "outputs": [
        {
          "output_type": "execute_result",
          "data": {
            "text/html": [
              "<div>\n",
              "<style scoped>\n",
              "    .dataframe tbody tr th:only-of-type {\n",
              "        vertical-align: middle;\n",
              "    }\n",
              "\n",
              "    .dataframe tbody tr th {\n",
              "        vertical-align: top;\n",
              "    }\n",
              "\n",
              "    .dataframe thead th {\n",
              "        text-align: right;\n",
              "    }\n",
              "</style>\n",
              "<table border=\"1\" class=\"dataframe\">\n",
              "  <thead>\n",
              "    <tr style=\"text-align: right;\">\n",
              "      <th></th>\n",
              "      <th>abc</th>\n",
              "      <th>def</th>\n",
              "    </tr>\n",
              "  </thead>\n",
              "  <tbody>\n",
              "    <tr>\n",
              "      <th>0</th>\n",
              "      <td>1</td>\n",
              "      <td>5</td>\n",
              "    </tr>\n",
              "    <tr>\n",
              "      <th>1</th>\n",
              "      <td>2</td>\n",
              "      <td>6</td>\n",
              "    </tr>\n",
              "    <tr>\n",
              "      <th>2</th>\n",
              "      <td>3</td>\n",
              "      <td>7</td>\n",
              "    </tr>\n",
              "    <tr>\n",
              "      <th>3</th>\n",
              "      <td>4</td>\n",
              "      <td>8</td>\n",
              "    </tr>\n",
              "  </tbody>\n",
              "</table>\n",
              "</div>"
            ],
            "text/plain": [
              "   abc  def\n",
              "0    1    5\n",
              "1    2    6\n",
              "2    3    7\n",
              "3    4    8"
            ]
          },
          "metadata": {
            "tags": []
          },
          "execution_count": 10
        }
      ]
    },
    {
      "cell_type": "code",
      "metadata": {
        "id": "O0NOBBUP5Qqe",
        "outputId": "d5660dc3-deda-4cd0-eac1-8dce3006e743",
        "colab": {
          "base_uri": "https://localhost:8080/",
          "height": 142
        }
      },
      "source": [
        "# Pandas Series with label\n",
        "items = {'chaman':pd.Series(data=[1,2,3,4,5],index=['a',1,'c',2,'b']),'anay':pd.Series(data=[1,2,3],index=['d','c','a'])}\n",
        "arr = pd.DataFrame(items)\n",
        "arr\n",
        "\n",
        "arr_new = pd.DataFrame(items,index=['a',1,'d'],columns=['chaman'])\n",
        "arr_new"
      ],
      "execution_count": null,
      "outputs": [
        {
          "output_type": "execute_result",
          "data": {
            "text/html": [
              "<div>\n",
              "<style scoped>\n",
              "    .dataframe tbody tr th:only-of-type {\n",
              "        vertical-align: middle;\n",
              "    }\n",
              "\n",
              "    .dataframe tbody tr th {\n",
              "        vertical-align: top;\n",
              "    }\n",
              "\n",
              "    .dataframe thead th {\n",
              "        text-align: right;\n",
              "    }\n",
              "</style>\n",
              "<table border=\"1\" class=\"dataframe\">\n",
              "  <thead>\n",
              "    <tr style=\"text-align: right;\">\n",
              "      <th></th>\n",
              "      <th>chaman</th>\n",
              "    </tr>\n",
              "  </thead>\n",
              "  <tbody>\n",
              "    <tr>\n",
              "      <th>a</th>\n",
              "      <td>1.0</td>\n",
              "    </tr>\n",
              "    <tr>\n",
              "      <th>1</th>\n",
              "      <td>2.0</td>\n",
              "    </tr>\n",
              "    <tr>\n",
              "      <th>d</th>\n",
              "      <td>NaN</td>\n",
              "    </tr>\n",
              "  </tbody>\n",
              "</table>\n",
              "</div>"
            ],
            "text/plain": [
              "   chaman\n",
              "a     1.0\n",
              "1     2.0\n",
              "d     NaN"
            ]
          },
          "metadata": {
            "tags": []
          },
          "execution_count": 27
        }
      ]
    },
    {
      "cell_type": "code",
      "metadata": {
        "id": "WVjfgD9cJ-eU",
        "outputId": "128fb2e1-0708-43d9-88a9-255b56b3749e",
        "colab": {
          "base_uri": "https://localhost:8080/",
          "height": 111
        }
      },
      "source": [
        "arr = [['a','b','c'],[1,2,3]]\n",
        "frame = pd.DataFrame(arr,index=['label1','label2'],columns=['alphabet','num1','num2'])\n",
        "frame"
      ],
      "execution_count": null,
      "outputs": [
        {
          "output_type": "execute_result",
          "data": {
            "text/html": [
              "<div>\n",
              "<style scoped>\n",
              "    .dataframe tbody tr th:only-of-type {\n",
              "        vertical-align: middle;\n",
              "    }\n",
              "\n",
              "    .dataframe tbody tr th {\n",
              "        vertical-align: top;\n",
              "    }\n",
              "\n",
              "    .dataframe thead th {\n",
              "        text-align: right;\n",
              "    }\n",
              "</style>\n",
              "<table border=\"1\" class=\"dataframe\">\n",
              "  <thead>\n",
              "    <tr style=\"text-align: right;\">\n",
              "      <th></th>\n",
              "      <th>alphabet</th>\n",
              "      <th>num1</th>\n",
              "      <th>num2</th>\n",
              "    </tr>\n",
              "  </thead>\n",
              "  <tbody>\n",
              "    <tr>\n",
              "      <th>label1</th>\n",
              "      <td>a</td>\n",
              "      <td>b</td>\n",
              "      <td>c</td>\n",
              "    </tr>\n",
              "    <tr>\n",
              "      <th>label2</th>\n",
              "      <td>1</td>\n",
              "      <td>2</td>\n",
              "      <td>3</td>\n",
              "    </tr>\n",
              "  </tbody>\n",
              "</table>\n",
              "</div>"
            ],
            "text/plain": [
              "       alphabet num1 num2\n",
              "label1        a    b    c\n",
              "label2        1    2    3"
            ]
          },
          "metadata": {
            "tags": []
          },
          "execution_count": 40
        }
      ]
    },
    {
      "cell_type": "code",
      "metadata": {
        "id": "-glwNNhWEeDW",
        "outputId": "7b14e357-eb0e-4b19-ed0d-5f0276782a0c",
        "colab": {
          "base_uri": "https://localhost:8080/",
          "height": 196
        }
      },
      "source": [
        "new_frame = pd.DataFrame([{'bikes': 20, 'pants': 30, 'watches': 35}, {'watches': 10, 'glasses': 50, 'bikes': 15, 'pants':5}])\n",
        "\n",
        "new_frame['glasses'][0] = 0\n",
        "new_frame['check'] = [1,2]\n",
        "new_frame\n"
      ],
      "execution_count": null,
      "outputs": [
        {
          "output_type": "stream",
          "text": [
            "/usr/local/lib/python3.6/dist-packages/ipykernel_launcher.py:3: SettingWithCopyWarning: \n",
            "A value is trying to be set on a copy of a slice from a DataFrame\n",
            "\n",
            "See the caveats in the documentation: https://pandas.pydata.org/pandas-docs/stable/user_guide/indexing.html#returning-a-view-versus-a-copy\n",
            "  This is separate from the ipykernel package so we can avoid doing imports until\n"
          ],
          "name": "stderr"
        },
        {
          "output_type": "execute_result",
          "data": {
            "text/html": [
              "<div>\n",
              "<style scoped>\n",
              "    .dataframe tbody tr th:only-of-type {\n",
              "        vertical-align: middle;\n",
              "    }\n",
              "\n",
              "    .dataframe tbody tr th {\n",
              "        vertical-align: top;\n",
              "    }\n",
              "\n",
              "    .dataframe thead th {\n",
              "        text-align: right;\n",
              "    }\n",
              "</style>\n",
              "<table border=\"1\" class=\"dataframe\">\n",
              "  <thead>\n",
              "    <tr style=\"text-align: right;\">\n",
              "      <th></th>\n",
              "      <th>bikes</th>\n",
              "      <th>pants</th>\n",
              "      <th>watches</th>\n",
              "      <th>glasses</th>\n",
              "      <th>check</th>\n",
              "    </tr>\n",
              "  </thead>\n",
              "  <tbody>\n",
              "    <tr>\n",
              "      <th>0</th>\n",
              "      <td>20</td>\n",
              "      <td>30</td>\n",
              "      <td>35</td>\n",
              "      <td>0.0</td>\n",
              "      <td>1</td>\n",
              "    </tr>\n",
              "    <tr>\n",
              "      <th>1</th>\n",
              "      <td>15</td>\n",
              "      <td>5</td>\n",
              "      <td>10</td>\n",
              "      <td>50.0</td>\n",
              "      <td>2</td>\n",
              "    </tr>\n",
              "  </tbody>\n",
              "</table>\n",
              "</div>"
            ],
            "text/plain": [
              "   bikes  pants  watches  glasses  check\n",
              "0     20     30       35      0.0      1\n",
              "1     15      5       10     50.0      2"
            ]
          },
          "metadata": {
            "tags": []
          },
          "execution_count": 27
        }
      ]
    },
    {
      "cell_type": "code",
      "metadata": {
        "id": "GxjeZJKiFyB6",
        "outputId": "4c7bb0c2-788c-4f8e-ca0f-f08460496e67",
        "colab": {
          "base_uri": "https://localhost:8080/",
          "height": 111
        }
      },
      "source": [
        "import pandas as pd\n",
        "import numpy as np\n",
        "\n",
        "arr = [{'k1':[10,20],'k2':3},{'s1':[40,50]}]\n",
        "a = pd.DataFrame(arr,index=[10,20],columns=['k1','k2','s1'])\n",
        "\n",
        "a2 = pd.DataFrame([{'k1':0.1,'k2':0.2,'s1':0.5},{'k1':0.2,'k2':0.4,'s1':1}],index=[4,5])\n",
        "a2\n",
        "\n",
        "a2 = a2.append(a)\n",
        "a2['shoda'] = [1,2,3,4]\n",
        "# print(a2)\n",
        "\n",
        "x = pd.DataFrame(arr,columns=['k1','k2'],index=[10,20])\n",
        "x\n"
      ],
      "execution_count": null,
      "outputs": [
        {
          "output_type": "execute_result",
          "data": {
            "text/html": [
              "<div>\n",
              "<style scoped>\n",
              "    .dataframe tbody tr th:only-of-type {\n",
              "        vertical-align: middle;\n",
              "    }\n",
              "\n",
              "    .dataframe tbody tr th {\n",
              "        vertical-align: top;\n",
              "    }\n",
              "\n",
              "    .dataframe thead th {\n",
              "        text-align: right;\n",
              "    }\n",
              "</style>\n",
              "<table border=\"1\" class=\"dataframe\">\n",
              "  <thead>\n",
              "    <tr style=\"text-align: right;\">\n",
              "      <th></th>\n",
              "      <th>k1</th>\n",
              "      <th>k2</th>\n",
              "    </tr>\n",
              "  </thead>\n",
              "  <tbody>\n",
              "    <tr>\n",
              "      <th>10</th>\n",
              "      <td>[10, 20]</td>\n",
              "      <td>3.0</td>\n",
              "    </tr>\n",
              "    <tr>\n",
              "      <th>20</th>\n",
              "      <td>NaN</td>\n",
              "      <td>NaN</td>\n",
              "    </tr>\n",
              "  </tbody>\n",
              "</table>\n",
              "</div>"
            ],
            "text/plain": [
              "          k1   k2\n",
              "10  [10, 20]  3.0\n",
              "20       NaN  NaN"
            ]
          },
          "metadata": {
            "tags": []
          },
          "execution_count": 52
        }
      ]
    },
    {
      "cell_type": "code",
      "metadata": {
        "id": "IS2UfZdLPK8v"
      },
      "source": [
        "import pandas as pd\n",
        "\n",
        "items = [{'bikes': 20, 'pants': 30, 'watches': 35, 'shirts': 15, 'shoes':8, 'suits':45},\n",
        "{'watches': 10, 'glasses': 50, 'bikes': 15, 'pants':5, 'shirts': 2, 'shoes':5, 'suits':7},\n",
        "{'bikes': 20, 'pants': 30, 'watches': 35, 'glasses': 4, 'shoes':10}]\n",
        "\n",
        "df = pd.DataFrame(items,index=['store1','store2','store3'])\n",
        "print(df,'\\n')\n",
        "\n",
        "df.fillna(method='bfill',axis=1)\n",
        "df"
      ],
      "execution_count": null,
      "outputs": []
    },
    {
      "cell_type": "code",
      "metadata": {
        "id": "DnKbZkrCjpWa"
      },
      "source": [
        "import pandas as pd\n",
        "import numpy as np\n",
        "\n",
        "pd.set_option('precision', 1)\n",
        "\n",
        "books = pd.Series(data = ['Great Expectations', 'Of Mice and Men', 'Romeo and Juliet', 'The Time Machine', 'Alice in Wonderland' ])\n",
        "authors = pd.Series(data = ['Charles Dickens', 'John Steinbeck', 'William Shakespeare', ' H. G. Wells', 'Lewis Carroll' ])\n",
        "user_1 = pd.Series(data = [3.2, np.nan ,2.5])\n",
        "user_2 = pd.Series(data = [5., 1.3, 4.0, 3.8],)\n",
        "user_3 = pd.Series(data = [2.0, 2.3, np.nan, 4])\n",
        "user_4 = pd.Series(data = [4, 3.5, 4, 5, 4.2])\n",
        "\n",
        "dictn = {'book':books,'author': authors,'u1':user_1,'u2':user_2,'u3':user_3,'u4':user_4}\n",
        "df = pd.DataFrame(data=dictn)\n",
        "\n",
        "dict2 = {'u1':user_1,'u2':user_2,'u3':user_3,'u4':user_4}\n",
        "df2 = pd.DataFrame(dict2)\n",
        "arr = np.array(df2.mean(axis=1,skipna=True))\n",
        "\n",
        "\n",
        "# # print(df)\n",
        "# # df[(df==5).any(axis=1)]['book'].values\n"
      ],
      "execution_count": null,
      "outputs": []
    },
    {
      "cell_type": "code",
      "metadata": {
        "id": "l9-GP2UDtOmj",
        "outputId": "d7c337bf-d3f1-42f9-ddbf-84a6d682ab10",
        "colab": {
          "base_uri": "https://localhost:8080/",
          "height": 374
        }
      },
      "source": [
        "pd.set_option('precision', 2)\n",
        "df = pd.read_csv('/Company.csv')\n",
        "df\n",
        "print(df)"
      ],
      "execution_count": null,
      "outputs": [
        {
          "output_type": "stream",
          "text": [
            "   Year Name   Dept  Age  Salary\n",
            "0  1990    A     HR   25      50\n",
            "1  1990    B     RD   30      48\n",
            "2  1990    C  Admin   45      55\n",
            "3  1991    A     HR   26      52\n",
            "4  1991    B     RD   31      50\n",
            "5  1991    C  Admin   46      60\n",
            "6  1992    A     HR   27      60\n",
            "7  1992    B     RD   32      52\n",
            "8  1992    C  Admin   47      62\n"
          ],
          "name": "stdout"
        },
        {
          "output_type": "execute_result",
          "data": {
            "text/plain": [
              "Dept   Year\n",
              "Admin  1990    55\n",
              "       1991    60\n",
              "       1992    62\n",
              "HR     1990    50\n",
              "       1991    52\n",
              "       1992    60\n",
              "RD     1990    48\n",
              "       1991    50\n",
              "       1992    52\n",
              "Name: Salary, dtype: int64"
            ]
          },
          "metadata": {
            "tags": []
          },
          "execution_count": 83
        }
      ]
    }
  ]
}